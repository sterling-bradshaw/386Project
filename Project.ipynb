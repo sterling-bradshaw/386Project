{
 "cells": [
  {
   "cell_type": "code",
   "execution_count": 132,
   "id": "d72ab47c",
   "metadata": {},
   "outputs": [],
   "source": [
    "import requests\n",
    "import json\n",
    "import numpy as np"
   ]
  },
  {
   "cell_type": "code",
   "execution_count": 2,
   "id": "1b0c620e",
   "metadata": {},
   "outputs": [],
   "source": [
    "url = 'http://api.steampowered.com/ISteamWebAPIUtil/GetSupportedAPIList/v1/'\n",
    "url2 = 'http://api.steampowered.com/ISteamUser/GetPlayerSummaries/v0002/?key=472965261DDEE0296EBFC79989FAA8D5&steamids=76561197960535530'\n",
    "url3 = 'https://api.steampowered.com/ISteamUserStats/GetSchemaForGame/v2?appid=990080&key=472965261DDEE0296EBFC79989FAA8D5'\n",
    "\n",
    "r = requests.get(url)\n",
    "r2 = requests.get(url2)\n",
    "r3 = requests.get(url3)"
   ]
  },
  {
   "cell_type": "code",
   "execution_count": 3,
   "id": "0c79cbb3",
   "metadata": {},
   "outputs": [
    {
     "name": "stdout",
     "output_type": "stream",
     "text": [
      "{\"id\":410,\"iata\":\"ATL\",\"icao\":\"KATL\",\"name\":\"Hartsfield–Jackson Atlanta International Airport\",\"location\":\"Atlanta, Georgia, United States\",\"street_number\":\"6000\",\"street\":\"North Terminal Parkway\",\"city\":\"Atlanta\",\"county\":\"\",\"state\":\"Georgia\",\"country_iso\":\"US\",\"country\":\"United States\",\"postal_code\":\"30320\",\"phone\":\"+1 800-897-1910\",\"latitude\":33.640728,\"longitude\":-84.427704,\"uct\":-240,\"website\":\"http://www.atl.com/\"}\n",
      "\n"
     ]
    }
   ],
   "source": [
    "import requests\n",
    "\n",
    "url = \"https://airport-info.p.rapidapi.com/airport\"\n",
    "\n",
    "querystring = {\"iata\":[\"ATL\",\"SLC\"]}\n",
    "\n",
    "headers = {\n",
    "\t\"X-RapidAPI-Key\": \"f6651051bdmshde689e68bbcde88p1a665ejsn51f009ca2865\",\n",
    "\t\"X-RapidAPI-Host\": \"airport-info.p.rapidapi.com\"\n",
    "}\n",
    "\n",
    "response = requests.request(\"GET\", url, headers=headers, params=querystring)\n",
    "\n",
    "print(response.text)"
   ]
  },
  {
   "cell_type": "code",
   "execution_count": 40,
   "id": "eb248635",
   "metadata": {},
   "outputs": [
    {
     "data": {
      "text/plain": [
       "100"
      ]
     },
     "execution_count": 40,
     "metadata": {},
     "output_type": "execute_result"
    }
   ],
   "source": [
    "import requests\n",
    "\n",
    "url = \"https://free-nba.p.rapidapi.com/games\"\n",
    "\n",
    "querystring = {\"page\":\"1\",\"per_page\":\"100\",\"Seasons\":\"2016\"}\n",
    "\n",
    "headers = {\n",
    "\t\"X-RapidAPI-Key\": \"f6651051bdmshde689e68bbcde88p1a665ejsn51f009ca2865\",\n",
    "\t\"X-RapidAPI-Host\": \"free-nba.p.rapidapi.com\"\n",
    "}\n",
    "\n",
    "response = requests.request(\"GET\", url, headers=headers, params=querystring)\n",
    "\n",
    "str_json = response.text\n",
    "type(str_json)\n",
    "json_dict = json.loads(str_json)\n",
    "json_list = json_dict['data']\n",
    "len(json_list)\n",
    "\n",
    "\n",
    "#for ident in json['data']:\n",
    "  #  print(id)"
   ]
  },
  {
   "cell_type": "code",
   "execution_count": 136,
   "id": "db4b3e43",
   "metadata": {},
   "outputs": [
    {
     "data": {
      "text/plain": [
       "array([84, 97, 104, ..., 106, 114, None], dtype=object)"
      ]
     },
     "execution_count": 136,
     "metadata": {},
     "output_type": "execute_result"
    }
   ],
   "source": [
    "import requests\n",
    "\n",
    "url = \"https://api-nba-v1.p.rapidapi.com/games\"\n",
    "\n",
    "querystring = {\"season\":'2018'}\n",
    "\n",
    "headers = {\n",
    "\t\"X-RapidAPI-Key\": \"f6651051bdmshde689e68bbcde88p1a665ejsn51f009ca2865\",\n",
    "\t\"X-RapidAPI-Host\": \"api-nba-v1.p.rapidapi.com\"\n",
    "}\n",
    "\n",
    "response = requests.request(\"GET\", url, headers=headers, params=querystring)\n",
    "\n",
    "json_str = response.text\n",
    "\n",
    "json_dict = json.loads(json_str)\n",
    "\n",
    "json_list = json_dict['response']\n",
    "\n",
    "len(json_list)\n",
    "\n",
    "score_visitors_2018=[]\n",
    "\n",
    "score_home_2018=[]\n",
    "\n",
    "for id in json_list:\n",
    "    #print(type(id['scores']['visitors']['points']))\n",
    "    score_visitors_2018.append(id['scores']['visitors']['points'])\n",
    "    score_home_2018.append(id['scores']['home']['points'])\n",
    "    \n",
    "visitors_2018 = np.array(score_visitors_2018)\n",
    "home_2018 = np.array(score_home_2018)\n",
    "\n",
    "visitors_2018\n"
   ]
  },
  {
   "cell_type": "code",
   "execution_count": null,
   "id": "b3f15fe2",
   "metadata": {},
   "outputs": [],
   "source": []
  }
 ],
 "metadata": {
  "kernelspec": {
   "display_name": "Python 3 (ipykernel)",
   "language": "python",
   "name": "python3"
  },
  "language_info": {
   "codemirror_mode": {
    "name": "ipython",
    "version": 3
   },
   "file_extension": ".py",
   "mimetype": "text/x-python",
   "name": "python",
   "nbconvert_exporter": "python",
   "pygments_lexer": "ipython3",
   "version": "3.9.12"
  }
 },
 "nbformat": 4,
 "nbformat_minor": 5
}
