{
 "cells": [
  {
   "cell_type": "code",
   "execution_count": null,
   "id": "d72ab47c",
   "metadata": {},
   "outputs": [],
   "source": [
    "import requests\n",
    "import json\n",
    "import numpy as np\n",
    "import pandas as pd\n",
    "import time\n",
    "import matplotlib.pyplot as plt\n",
    "import plotly.express as px"
   ]
  },
  {
   "cell_type": "code",
   "execution_count": null,
   "id": "db4b3e43",
   "metadata": {},
   "outputs": [],
   "source": [
    "\n",
    "url = \"https://api-nba-v1.p.rapidapi.com/games\"\n",
    "\n",
    "querystring = {\"season\":'2020'}\n",
    "\n",
    "headers = {\n",
    "\t\"X-RapidAPI-Key\": \"Your API Key Here\",\n",
    "\t\"X-RapidAPI-Host\": \"api-nba-v1.p.rapidapi.com\"\n",
    "}\n",
    "\n",
    "response = requests.request(\"GET\", url, headers=headers, params=querystring)\n",
    "\n",
    "json_str = response.text\n",
    "\n",
    "json_dict = json.loads(json_str)\n",
    "\n",
    "json_list = json_dict['response']\n",
    "\n",
    "len(json_list)\n",
    "\n",
    "score_visitors_2018=[]\n",
    "\n",
    "score_home_2018=[]\n",
    "\n",
    "for id in json_list:\n",
    "    #print(type(id['scores']['visitors']['points']))\n",
    "    score_visitors_2018.append(id['scores']['visitors']['points'])\n",
    "    score_home_2018.append(id['scores']['home']['points'])\n",
    "    \n",
    "visitors_2018 = np.array(score_visitors_2018)\n",
    "home_2018 = np.array(score_home_2018)\n",
    "\n",
    "visitors_2018\n"
   ]
  },
  {
   "cell_type": "code",
   "execution_count": null,
   "id": "b3f15fe2",
   "metadata": {},
   "outputs": [],
   "source": [
    "len(json_list)"
   ]
  },
  {
   "cell_type": "code",
   "execution_count": null,
   "id": "6ae7df5f",
   "metadata": {},
   "outputs": [],
   "source": [
    "home_teams = []\n",
    "visitor_teams = []\n",
    "home_scores = []\n",
    "visiting_scores = []\n",
    "total_scores = []\n",
    "seasons = []\n",
    "postseasons = []\n",
    "home_conferences = []\n",
    "home_divisions = []\n",
    "visitor_conferences = []\n",
    "visitor_divisions = []"
   ]
  },
  {
   "cell_type": "code",
   "execution_count": null,
   "id": "422587c8",
   "metadata": {
    "scrolled": true
   },
   "outputs": [],
   "source": [
    "url2 = \"https://www.balldontlie.io/api/v1/games/?seasons[]=1980&seasons[]=1981&seasons[]=1982&seasons[]=1983&seasons[]=1984&seasons[]=1985&seasons[]=1986&seasons[]=1987&seasons[]=1988&seasons[]=1989&seasons[]=1990&seasons[]=1991&seasons[]=1992&seasons[]=1993&seasons[]=1994&seasons[]=1995&seasons[]=1996&seasons[]=1997&seasons[]=1998&seasons[]=1999&seasons[]=2000&seasons[]=2001&seasons[]=2002&seasons[]=2003&seasons[]=2004&seasons[]=2005&seasons[]=2006&seasons[]=2007&seasons[]=2008&seasons[]=2009&seasons[]=2010&seasons[]=2011&seasons[]=2012&seasons[]=2013&seasons[]=2014&seasons[]=2015&seasons[]=2016&seasons[]=2017&seasons[]=2018&seasons[]=2019&seasons[]=2020&seasons[]=2021&seasons[]=2022\"\n",
    "#url2 = 'https://www.balldontlie.io/api/v1/games/?start_date[]=1980-01-01&end_date[]=2020-01-01'\n",
    "\n",
    "params = {\n",
    "    'page':'1'\n",
    "}\n",
    "\n",
    "home_conferences = []\n",
    "\n",
    "start = time.time()\n",
    "\n",
    "for page in range(512):\n",
    "    time.sleep(2)\n",
    "    params = {'page':page+1,'per_page':'100'}\n",
    "    response2 = requests.get(url2, params = params)\n",
    "    print(response2)\n",
    "    json_str2 = response2.text\n",
    "    json_dict2 = json.loads(json_str2)\n",
    "    json_list2 = json_dict2['data']\n",
    "    for game in range(100):\n",
    "        \n",
    "        home_team = json_list2[game]['home_team']['full_name']\n",
    "        home_teams.append(home_team)\n",
    "        \n",
    "        visitor_team = json_list2[game]['visitor_team']['full_name']\n",
    "        visitor_teams.append(visitor_team)\n",
    "        \n",
    "        home_score = json_list2[game]['home_team_score']\n",
    "        home_scores.append(home_score)\n",
    "        \n",
    "        visiting_score = json_list2[game]['visitor_team_score']\n",
    "        visiting_scores.append(visiting_score)\n",
    "        \n",
    "        total_score = home_score + visiting_score\n",
    "        total_scores.append(total_score)\n",
    "\n",
    "        season = json_list2[game]['season']\n",
    "        seasons.append(season)\n",
    "        \n",
    "        postseason = json_list2[game]['postseason']\n",
    "        postseasons.append(postseason)\n",
    "        \n",
    "        home_conference = json_list2[game]['home_team']['conference']\n",
    "        home_conferences.append(home_conference)\n",
    "        \n",
    "        home_division = json_list2[game]['home_team']['division']\n",
    "        home_divisions.append(home_division)\n",
    "        \n",
    "        visitor_conference = json_list2[game]['visitor_team']['conference']\n",
    "        visitor_conferences.append(visitor_conference)\n",
    "        \n",
    "        visitor_division = json_list2[game]['visitor_team']['division']\n",
    "        visitor_divisions.append(visitor_division)\n",
    "        \n",
    "end = time.time()\n",
    "\n",
    "runtime = end - start\n",
    "print(len(seasons))\n",
    "print(runtime)\n"
   ]
  },
  {
   "cell_type": "code",
   "execution_count": null,
   "id": "9d9be1f9",
   "metadata": {},
   "outputs": [],
   "source": [
    "len(home_teams)"
   ]
  },
  {
   "cell_type": "code",
   "execution_count": null,
   "id": "ff5ba06e",
   "metadata": {},
   "outputs": [],
   "source": [
    "params = {'page':'512','per_page':'100'}\n",
    "response2 = requests.get(url2, params = params)\n",
    "json_str2 = response2.text\n",
    "json_dict2 = json.loads(json_str2)\n",
    "json_list2 = json_dict2['data']\n",
    "json_list2[99]"
   ]
  },
  {
   "cell_type": "code",
   "execution_count": null,
   "id": "b91721cb",
   "metadata": {},
   "outputs": [],
   "source": [
    "df = pd.DataFrame(\n",
    "                  columns=['Season','Home Score','Visiting Score','Total Score','Postseason'])\n",
    "df['Home Team'] = home_teams\n",
    "df['Home Score'] = home_scores\n",
    "df['Home Conference'] = home_conferences\n",
    "df['Home Division'] = home_divisions\n",
    "\n",
    "df['Visiting Team'] = visitor_teams\n",
    "df['Visiting Score'] = visiting_scores\n",
    "df['Visiting Conference'] = visitor_conferences\n",
    "df['Visiting Division'] = visitor_divisions\n",
    "\n",
    "df['Total Score'] = total_scores\n",
    "df['Season'] = seasons\n",
    "df['Postseason'] = postseasons\n",
    "\n",
    "\n",
    "\n",
    "df.to_csv('NBAGames.csv')"
   ]
  },
  {
   "cell_type": "code",
   "execution_count": null,
   "id": "621d456a",
   "metadata": {},
   "outputs": [],
   "source": [
    "df2 = pd.DataFrame(np.array([[1, 2, 3], [4, 5, 6], [7, 8, 9]]),\n",
    "...                    columns=['a', 'b', 'c'])\n",
    "df2"
   ]
  },
  {
   "cell_type": "code",
   "execution_count": null,
   "id": "984c0f83",
   "metadata": {},
   "outputs": [],
   "source": [
    "len(home_teams)"
   ]
  },
  {
   "cell_type": "code",
   "execution_count": null,
   "id": "420c1ca4",
   "metadata": {},
   "outputs": [],
   "source": [
    "df"
   ]
  },
  {
   "cell_type": "code",
   "execution_count": null,
   "id": "30ce39ec",
   "metadata": {},
   "outputs": [],
   "source": [
    "df = pd.read_csv('NBAGames.csv')"
   ]
  },
  {
   "cell_type": "code",
   "execution_count": null,
   "id": "5a29226b",
   "metadata": {},
   "outputs": [],
   "source": [
    "df = df.drop('Unnamed: 0',axis=1)"
   ]
  },
  {
   "cell_type": "code",
   "execution_count": null,
   "id": "44b38602",
   "metadata": {},
   "outputs": [],
   "source": [
    "avg_season_scores = df.groupby('Season').mean()[\"Total Score\"].ffill()\n",
    "years = range(1980,2023)\n",
    "plt.rcParams['font.size'] = 16\n",
    "plt.plot(years, avg_season_scores)\n",
    "plt.xticks(fontsize=8)\n",
    "plt.yticks(fontsize=8)\n",
    "plt.xlabel('Year')\n",
    "plt.ylabel('Average Total Game Score')\n",
    "plt.savefig('decades.jpg')\n"
   ]
  },
  {
   "cell_type": "code",
   "execution_count": null,
   "id": "00fe82e8",
   "metadata": {},
   "outputs": [],
   "source": [
    "# Warriors\n",
    "home = df[df['Home Team'] == 'Golden State Warriors']\n",
    "home['Score'] = home['Home Score']\n",
    "home = home.drop(columns=['Visiting Score','Total Score','Home Score','Postseason','Home Team','Home Conference',\n",
    "                  'Home Division','Visiting Team','Visiting Conference','Visiting Division'])\n",
    "\n",
    "away = df[df['Visiting Team'] == 'Golden State Warriors']\n",
    "away['Score'] = away['Visiting Score']\n",
    "away = away.drop(columns=['Visiting Score','Total Score','Home Score','Postseason','Home Team','Home Conference',\n",
    "                  'Home Division','Visiting Team','Visiting Conference','Visiting Division'])\n",
    "\n",
    "warriors = pd.concat([home,away])\n",
    "warriors_scores = warriors.groupby('Season').mean()['Score']"
   ]
  },
  {
   "cell_type": "code",
   "execution_count": null,
   "id": "67e90fa8",
   "metadata": {},
   "outputs": [],
   "source": [
    "# Jazz\n",
    "home = df[df['Home Team'] == 'Utah Jazz']\n",
    "home['Score'] = home['Home Score']\n",
    "home = home.drop(columns=['Visiting Score','Total Score','Home Score','Postseason','Home Team','Home Conference',\n",
    "                  'Home Division','Visiting Team','Visiting Conference','Visiting Division'])\n",
    "\n",
    "away = df[df['Visiting Team'] == 'Utah Jazz']\n",
    "away['Score'] = away['Visiting Score']\n",
    "away = away.drop(columns=['Visiting Score','Total Score','Home Score','Postseason','Home Team','Home Conference',\n",
    "                  'Home Division','Visiting Team','Visiting Conference','Visiting Division'])\n",
    "\n",
    "jazz = pd.concat([home,away])\n",
    "jazz_scores = jazz.groupby('Season').mean()['Score']"
   ]
  },
  {
   "cell_type": "code",
   "execution_count": null,
   "id": "cbc16a73",
   "metadata": {},
   "outputs": [],
   "source": [
    "# Jazz vs. Warriors Scoring\n",
    "plt.plot(years, warriors_scores,color = 'orange',label='Golden State')\n",
    "plt.plot(years, jazz_scores,color = 'purple',label='Utah Jazz')\n",
    "plt.legend(loc='lower left')"
   ]
  },
  {
   "cell_type": "code",
   "execution_count": null,
   "id": "f68acb4d",
   "metadata": {},
   "outputs": [],
   "source": [
    "# Regular Season vs. Postseason Scoring\n",
    "regular = df[df['Postseason'] == False]\n",
    "avg_reg = regular.groupby('Season').mean()[\"Total Score\"]\n",
    "avg_reg\n",
    "\n",
    "plt.rcParams['font.size'] = 16\n",
    "plt.plot(years[0:42], avg_reg[0:42],label=\"Regular Season\")\n",
    "plt.plot(years[0:42], avg_post[0:42],label=\"Postseason\")\n",
    "plt.xticks(fontsize=8)\n",
    "plt.yticks(fontsize=8)\n",
    "plt.legend(loc='lower left',prop={'size':10})\n",
    "plt.xlabel(\"Year\")\n",
    "plt.ylabel('Average Total Game Score')\n",
    "plt.savefig('RegvsPost.jpg')"
   ]
  },
  {
   "cell_type": "code",
   "execution_count": null,
   "id": "bfb7bfd0",
   "metadata": {},
   "outputs": [],
   "source": []
  },
  {
   "cell_type": "code",
   "execution_count": null,
   "id": "162e0abd",
   "metadata": {},
   "outputs": [],
   "source": [
    "score_diff = {}\n",
    "for i in range(30):\n",
    "    home = df[df[\"Home Team\"] == teams[i]][\"Home Score\"].mean()\n",
    "    away = df[df[\"Visiting Team\"] == teams[i]][\"Visiting Score\"].mean()\n",
    "    diff = home - away\n",
    "    new_val = {teams[i]:diff}\n",
    "    score_diff.update(new_val)"
   ]
  },
  {
   "cell_type": "code",
   "execution_count": null,
   "id": "3f1bc498",
   "metadata": {},
   "outputs": [],
   "source": [
    "# Scoring Differential\n",
    "dfbar = pd.DataFrame({\"Team\":list(score_diff.keys()),\"Score\":list(score_diff.values())})\n",
    "dfbar = dfbar.sort_values('Score',ascending=True)\n",
    "plt.rcParams['font.size'] = 14\n",
    "plt.barh(dfbar['Team'],dfbar['Score'],height=0.5)\n",
    "plt.yticks(fontsize=7)\n",
    "plt.xticks(fontsize=7)\n",
    "plt.xlabel('Avg Difference In Game Score (Home - Away)')\n",
    "plt.ylabel('Team')\n",
    "plt.savefig('scorediff.jpg')"
   ]
  },
  {
   "cell_type": "code",
   "execution_count": null,
   "id": "605ec260",
   "metadata": {},
   "outputs": [],
   "source": [
    "# West\n",
    "\n",
    "west_home_scores = df[df['Home Conference'] == 'West']['Home Score']\n",
    "west_visiting_scores = df[df['Visiting Conference'] == 'West']['Visiting Score']\n",
    "west_all_scores = west_home_scores.append(west_visiting_scores)\n",
    "west = west_all_scores.mean()\n",
    "\n",
    "# East\n",
    "east_home_scores = df[df['Home Conference'] == 'East']['Home Score']\n",
    "east_visiting_scores = df[df['Visiting Conference'] == 'East']['Visiting Score']\n",
    "east_all_scores = east_home_scores.append(east_visiting_scores)\n",
    "east = east_all_scores.mean()\n",
    "\n",
    "plt.rcParams['font.size'] = 16\n",
    "plt.bar(['West','East'],[west,east],color=['limegreen','gold'])\n",
    "plt.ylim(90,110)\n",
    "plt.xticks(fontsize=8)\n",
    "plt.yticks(fontsize=8)\n",
    "plt.xlabel('Conference')\n",
    "plt.ylabel('Average Game Score')\n",
    "plt.savefig('conferences.jpg')"
   ]
  },
  {
   "cell_type": "code",
   "execution_count": null,
   "id": "4c035dd9",
   "metadata": {},
   "outputs": [],
   "source": [
    "\n",
    "# Northwest\n",
    "nw_home_scores = df[df['Home Division'] == 'Northwest']['Home Score']\n",
    "nw_visiting_scores = df[df['Visiting Division'] == 'Northwest']['Visiting Score']\n",
    "nw_all_scores = nw_home_scores.append(nw_visiting_scores)\n",
    "nw = nw_all_scores.mean()\n",
    "\n",
    "# Southwest\n",
    "sw_home_scores = df[df['Home Division'] == 'Southwest']['Home Score']\n",
    "sw_visiting_scores = df[df['Visiting Division'] == 'Southwest']['Visiting Score']\n",
    "sw_all_scores = sw_home_scores.append(sw_visiting_scores)\n",
    "sw = sw_all_scores.mean()\n",
    "\n",
    "# Pacific\n",
    "p_home_scores = df[df['Home Division'] == 'Pacific']['Home Score']\n",
    "p_visiting_scores = df[df['Visiting Division'] == 'Pacific']['Visiting Score']\n",
    "p_all_scores = p_home_scores.append(p_visiting_scores)\n",
    "p = p_all_scores.mean()\n",
    "\n",
    "# Central\n",
    "c_home_scores = df[df['Home Division'] == 'Central']['Home Score']\n",
    "c_visiting_scores = df[df['Visiting Division'] == 'Central']['Visiting Score']\n",
    "c_all_scores = c_home_scores.append(c_visiting_scores)\n",
    "c = c_all_scores.mean()\n",
    "\n",
    "# Atlantic\n",
    "a_home_scores = df[df['Home Division'] == 'Atlantic']['Home Score']\n",
    "a_visiting_scores = df[df['Visiting Division'] == 'Atlantic']['Visiting Score']\n",
    "a_all_scores = a_home_scores.append(a_visiting_scores)\n",
    "a = a_all_scores.mean()\n",
    "\n",
    "# Southeast\n",
    "se_home_scores = df[df['Home Division'] == 'Southeast']['Home Score']\n",
    "se_visiting_scores = df[df['Visiting Division'] == 'Southeast']['Visiting Score']\n",
    "se_all_scores = se_home_scores.append(se_visiting_scores)\n",
    "se = se_all_scores.mean()\n",
    "\n",
    "divisions = [nw,sw,p,c,a,se]\n",
    "plt.rcParams['font.size'] = 16\n",
    "plt.bar(['Northwest','Southwest','Pacific','Central','Atlantic','Southeast'],divisions,\n",
    "        color=['limegreen','forestgreen','darkgreen','gold','goldenrod','darkgoldenrod'])\n",
    "plt.ylim(90,110)\n",
    "plt.xticks(fontsize=8)\n",
    "plt.yticks(fontsize=8)\n",
    "plt.xlabel('Division')\n",
    "plt.ylabel('Average Game Score')\n",
    "plt.savefig('divisions.jpg')\n",
    "\n"
   ]
  },
  {
   "cell_type": "code",
   "execution_count": null,
   "id": "b34786b7",
   "metadata": {},
   "outputs": [],
   "source": [
    "junk = df[df['Home Conference'] == 'West']['Home Score']\n",
    "junk"
   ]
  },
  {
   "cell_type": "code",
   "execution_count": null,
   "id": "9bc95a8a",
   "metadata": {},
   "outputs": [],
   "source": [
    "df"
   ]
  },
  {
   "cell_type": "code",
   "execution_count": null,
   "id": "f8571a35",
   "metadata": {},
   "outputs": [],
   "source": [
    "df = pd.read_csv('NBAGames.csv')\n",
    "type(avg_season_scores)\n",
    "junk = pd.DataFrame(avg_season_scores)\n",
    "junk = junk.reset_index()\n",
    "fig = px.line(junk, x=\"Season\", y=\"Total Score\", markers=True)\n",
    "fig.add_vline(x=1979)\n",
    "fig.add_vline(x=2009)\n",
    "fig.show()\n",
    "fig.write_html('Final.html')"
   ]
  },
  {
   "cell_type": "code",
   "execution_count": null,
   "id": "7fed7c78",
   "metadata": {},
   "outputs": [],
   "source": [
    "df = px.data.gapminder().query(\"country=='Canada'\")\n",
    "df"
   ]
  }
 ],
 "metadata": {
  "kernelspec": {
   "display_name": "Python 3 (ipykernel)",
   "language": "python",
   "name": "python3"
  },
  "language_info": {
   "codemirror_mode": {
    "name": "ipython",
    "version": 3
   },
   "file_extension": ".py",
   "mimetype": "text/x-python",
   "name": "python",
   "nbconvert_exporter": "python",
   "pygments_lexer": "ipython3",
   "version": "3.9.12"
  },
  "vscode": {
   "interpreter": {
    "hash": "31f2aee4e71d21fbe5cf8b01ff0e069b9275f58929596ceb00d14d90e3e16cd6"
   }
  }
 },
 "nbformat": 4,
 "nbformat_minor": 5
}
