{
 "cells": [
  {
   "cell_type": "code",
   "execution_count": 132,
   "id": "d72ab47c",
   "metadata": {},
   "outputs": [],
   "source": [
    "import requests\n",
    "import json\n",
    "import numpy as np"
   ]
  },
  {
   "cell_type": "code",
   "execution_count": 136,
   "id": "db4b3e43",
   "metadata": {},
   "outputs": [
    {
     "data": {
      "text/plain": [
       "array([84, 97, 104, ..., 106, 114, None], dtype=object)"
      ]
     },
     "execution_count": 136,
     "metadata": {},
     "output_type": "execute_result"
    }
   ],
   "source": [
    "import requests\n",
    "\n",
    "url = \"https://api-nba-v1.p.rapidapi.com/games\"\n",
    "\n",
    "querystring = {\"season\":'2018'}\n",
    "\n",
    "headers = {\n",
    "\t\"X-RapidAPI-Key\": \"Your APIKey\",\n",
    "\t\"X-RapidAPI-Host\": \"api-nba-v1.p.rapidapi.com\"\n",
    "}\n",
    "\n",
    "response = requests.request(\"GET\", url, headers=headers, params=querystring)\n",
    "\n",
    "json_str = response.text\n",
    "\n",
    "json_dict = json.loads(json_str)\n",
    "\n",
    "json_list = json_dict['response']\n",
    "\n",
    "len(json_list)\n",
    "\n",
    "score_visitors_2018=[]\n",
    "\n",
    "score_home_2018=[]\n",
    "\n",
    "for id in json_list:\n",
    "    #print(type(id['scores']['visitors']['points']))\n",
    "    score_visitors_2018.append(id['scores']['visitors']['points'])\n",
    "    score_home_2018.append(id['scores']['home']['points'])\n",
    "    \n",
    "visitors_2018 = np.array(score_visitors_2018)\n",
    "home_2018 = np.array(score_home_2018)\n",
    "\n",
    "visitors_2018\n"
   ]
  },
  {
   "cell_type": "code",
   "execution_count": null,
   "id": "b3f15fe2",
   "metadata": {},
   "outputs": [],
   "source": []
  }
 ],
 "metadata": {
  "kernelspec": {
   "display_name": "Python 3",
   "language": "python",
   "name": "python3"
  },
  "language_info": {
   "codemirror_mode": {
    "name": "ipython",
    "version": 3
   },
   "file_extension": ".py",
   "mimetype": "text/x-python",
   "name": "python",
   "nbconvert_exporter": "python",
   "pygments_lexer": "ipython3",
   "version": "3.9.6 (default, Aug  5 2022, 15:21:02) \n[Clang 14.0.0 (clang-1400.0.29.102)]"
  },
  "vscode": {
   "interpreter": {
    "hash": "31f2aee4e71d21fbe5cf8b01ff0e069b9275f58929596ceb00d14d90e3e16cd6"
   }
  }
 },
 "nbformat": 4,
 "nbformat_minor": 5
}
